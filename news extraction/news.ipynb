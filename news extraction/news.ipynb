{
 "cells": [
  {
   "cell_type": "code",
   "execution_count": 26,
   "metadata": {},
   "outputs": [],
   "source": [
    "from bs4 import BeautifulSoup\n",
    "import requests\n",
    "from requests import get "
   ]
  },
  {
   "cell_type": "code",
   "execution_count": 27,
   "metadata": {},
   "outputs": [],
   "source": [
    "# creating a function to extract only text from <p> tags. stripped_strings: remove the whitespaces or specific characters from the string at the beginning and end of the string\n",
    "def get_only_text(url):\n",
    "  page = requests.get(url)\n",
    "  soup = BeautifulSoup(page.content, \"html.parser\")\n",
    "  text = ' '.join(map(lambda p: p.text, soup.find_all('p')))\n",
    "  title = ' '.join(soup.title.stripped_strings)\n",
    "  return title, text"
   ]
  },
  {
   "cell_type": "code",
   "execution_count": 28,
   "metadata": {},
   "outputs": [],
   "source": [
    "text = get_only_text(\"https://www.vox.com/policy-and-politics/2019/5/30/18642535/california-ab5-misclassify-employees-contractors\")"
   ]
  },
  {
   "cell_type": "code",
   "execution_count": 29,
   "metadata": {},
   "outputs": [
    {
     "data": {
      "text/plain": [
       "('California AB5: State Assembly passes employee misclassification bill - Vox',\n",
       " \"The state Assembly just passed a bill that could give Uber and Lyft drivers basic labor protections for the first time. California just took a major step in rewriting the rules of the gig economy. The state Assembly passed a bill Wednesday that would make it harder for companies to label workers as independent contractors instead of employees, a common practice that has allowed businesses to skirt state and federal labor laws. The bill will now go to the state Senate. Hundreds of thousands of independent contractors in California, ranging from Uber and Amazon drivers to manicurists and exotic dancers, would likely become employees under the bill.  That small status change is huge. These workers would suddenly get labor protections and benefits that all employees get, such as unemployment insurance, health care subsidies, paid parental leave, overtime pay, workers’ compensation, and a guaranteed $12 minimum hourly wage. It also means companies are fuming about the added cost. The California bill, known as AB5, expands a groundbreaking California Supreme Court decision last year known as Dynamex. The ruling and the bill instruct businesses to use the so-called “ABC test” to figure out whether a worker is an employee. To hire an independent contractor, businesses must prove that the worker (a) is free from the company’s control, (b) is doing work that isn’t central to the company’s business, and (c) has an independent business in that industry. If they don’t meet all three of those conditions, then they have to be classified as employees. That is a much clearer — and stricter — standard of proof than the vague guidelines under federal law. And it’s one of the biggest challenges yet to the profit model of Uber, Instacart, Postmates, and other tech companies that rely on a small army of independent contractors. Uber would likely have to reclassify tens of thousands of drivers in California as employees — something Uber drivers have been fighting for in court, unsuccessfully, for years. “Big businesses shouldn’t be able to pass their costs onto taxpayers while depriving workers of the labor law protections they are rightfully entitled to,” San Diego Assembly member Lorena González wrote on Twitter after members voted overwhelmingly in favor of the bill she helped write. California businesses have been panicking over the possibility of the bill passing. The state’s Chamber of Commerce and dozens of industry groups have been lobbying for exemptions, and a long list of professions were excluded from the bill: doctors, dentists, lawyers, architects, insurance agents, accountants, engineers, financial advisers, real estate agents, and hairstylists who rent booths at salons.  Industry groups argue that these professionals are true independent contractors, with their own businesses and power to negotiate work contracts. Lawmakers agreed. After all, the purpose of the bill is to shrink income inequality by helping workers who employers are most likely to exploit. Uber drivers are the loudest in that group.  When Uber drivers went on strike across the world earlier this month, much of their frustration had to do with their lack of power as independent contractors. Uber’s profit model, like all others in the gig economy, depends on all the money saved from skirting US labor laws.  By classifying drivers as independent contractors instead of employees, Uber doesn’t need to pay certain taxes, benefits, overtime, or minimum wages to tens of thousands of drivers. As self-employed contractors, drivers don’t have a legal right to form labor unions and negotiate contracts either.  Uber drivers have spent more than six years fighting the company in court, saying they’ve been intentionally misclassified. They argue that drivers should be considered employees because the company has so much control over their workday, including strict rules on their vehicle conditions, what rides they can take, and which routes to take. Uber has fought back, maintaining that drivers are not employees because they set their own schedules and provide their own cars. So far, the issue has not been resolved, at least not at the national level.  Last month, Uber settled the main court case with 13,600 Uber drivers, agreeing to pay them $20 million, but without changing their status as independent contractors. The other 350,000 drivers who were part of the initial class-action lawsuit had signed mandatory arbitration agreements, so a federal judge is requiring them to pursue their cases in a private forum, where they are less likely to win their case. But it would be hard for Uber to pass the ABC test if the California bill becomes law; driving people around in cars is a central part of the company’s business. Any challenge to the drivers’ status as contractors threatens Uber’s bottom line, which is another reason the bill is so significant Uber has been upfront with investors about the risk of a labor revolt. In a recent Securities and Exchange Commission filing, Uber acknowledged that giving drivers the same legal rights as employees would “fundamentally change” the company’s financial model: If, as a result of legislation or judicial decisions, we are required to classify Drivers as employees ... we would incur significant additional expenses for compensating Drivers, potentially including expenses associated with the application of wage and hour laws (including minimum wage, overtime, and meal and rest period requirements), employee benefits, social security contributions, taxes, and penalties. So it’s unsurprising that Uber is not happy about a law that would force the company to hire drivers as employees. As employees, gig workers would have a safety net for the first time ever. The changes from the bill would also benefit the state of California, which estimates that it loses $7 billion in tax revenue each year from companies that misclassify employees. Even though it’s impossible to get precise data on how often employers misclassify their workers, there’s no doubt that it’s a big problem. The IRS, the Government Accountability Office, and the Inspector General for Tax Administration have repeatedly raised concerns about how often employers do this. The deputy inspector general for audit at the Treasury Department wrote in a 2009 memo to the agency’s head of enforcement: There are employers who deliberately misclassify workers to cut costs and to gain a greater competitive edge. These employers avoid paying their share of employment taxes as well as other expenses such as workers’ compensation, unemployment insurance, and other benefits. Misclassifying employees as independent contractors and not incurring the related costs can give these employers a competitive advantage over employers who treat their workers as employees. In September 2011, the IRS and DOL agreed to work together to share information to prevent misclassification and report on their progress each year. In 2017, a long-awaited report was published by the Government Accountability Office, analyzing government efforts to combat tax fraud. The report summarized findings from an IRS audit of 15.7 million tax returns from 2008 to 2010. It turns out that about 3 million of those returns involved misclassification, adding up to about $44.3 billion in unpaid federal taxes that were later adjusted. Since then, little progress has been made. In December, the Treasury Department said misclassification is still a “nationwide problem” and that the IRS and Labor Department are not doing enough to address it.  California’s bill is the biggest effort yet to fix the problem. A 10-year-old lawsuit in California paved the way for AB5. In April, the California Supreme Court ruled in favor of workers in the case, called Dynamex Operations West v Superior Court. Workers for a document delivery company called Dynamex Operations West were seeking employment status. The drivers for the delivery service first brought their case over a decade ago, arguing that they were required to wear the company’s uniform and display its logo, while providing their own vehicles and shouldering all the costs associated with the deliveries, and thus should be classified as employees, not independent contractors. (Amazon drivers recently sued the company for similar reasons). In May 2018, the state’s highest court agreed with Dynamex drivers. The ruling essentially created the ABC test as precedent, but it only relates to workers seeking minimum wages and overtime pay. The case didn’t address workers’ compensation benefits. It didn’t clarify which workers are entitled to rest and meal breaks, or who has a right to paid parental leave and other guaranteed benefits. Many states use some version of the ABC test, but usually just to determine whether someone is entitled to unemployment benefits. Only New Jersey, Vermont, and Massachusetts use the standard to enforce all state labor laws.  Under federal law, there is no clear standard. The federal courts and the US Department of Labor decide who has been misclassified by weighing multiple factors, including how much control the company has over the worker and how central their work is to the company’s operations. If passed, California’s AB5 bill would reflect a major turning point in the post-recession economic expansion. California has the largest state economy in the country and is home to the Silicon Valley tech industry — which means its lawmakers have outsized influence in national politics. The bill could lead other states to take similar action. “Here we are in a great economy and yet most working people have no money saved,” Caitlin Vega, legislative director for the California Labor Federation, told me. “[Companies] are doing this because they can, they’ve gotten away with it.” Democrats have a veto-proof supermajority in California’s Senate and General Assembly, so there’s a good chance that AB5 will become law, making it harder for those companies to get away with misclassifying their workforce. Correction: A previous version of this article stated the wrong date for the California Supreme Court’s ruling in Dynamex Operations West Inc. v. Superior Court. It was in May 2018.  Will you support Vox’s explanatory journalism? \\n      Millions turn to Vox to educate themselves, their family, and their friends about what’s happening in the world around them, and to learn about things that spark their curiosity. Financial contributions from our readers are a critical part of supporting our resource-intensive work and help us keep our journalism free for all. \\r\\n Please consider making a one-time contribution to Vox today.\\r\\n\\n \\n$95/year\\n \\n$120/year\\n \\n$250/year\\n \\n\\n                We accept credit card, Apple Pay, and\\n              \\n\\n                Google Pay. You can also contribute via\\n              \\n Each week, we explore unique solutions to some of the world's biggest problems. Check your inbox for a welcome email. Oops. Something went wrong. Please enter a valid email and try again.\")"
      ]
     },
     "execution_count": 29,
     "metadata": {},
     "output_type": "execute_result"
    }
   ],
   "source": [
    "text"
   ]
  },
  {
   "cell_type": "code",
   "execution_count": 30,
   "metadata": {},
   "outputs": [
    {
     "data": {
      "text/plain": [
       "1732"
      ]
     },
     "execution_count": 30,
     "metadata": {},
     "output_type": "execute_result"
    }
   ],
   "source": [
    "# text[0] is title, we want text so we use text[1]\n",
    "len(str.split(text[1]))"
   ]
  },
  {
   "attachments": {},
   "cell_type": "markdown",
   "metadata": {},
   "source": [
    "Summarization"
   ]
  },
  {
   "cell_type": "code",
   "execution_count": 31,
   "metadata": {},
   "outputs": [],
   "source": [
    "from gensim.summarization.summarizer import summarize\n",
    "from gensim.summarization import keywords"
   ]
  },
  {
   "cell_type": "code",
   "execution_count": 35,
   "metadata": {},
   "outputs": [
    {
     "name": "stdout",
     "output_type": "stream",
     "text": [
      "Title : California AB5: State Assembly passes employee misclassification bill - Vox\n",
      "Summary : \n",
      "The state Assembly passed a bill Wednesday that would make it harder for companies to label workers as independent contractors instead of employees, a common practice that has allowed businesses to skirt state and federal labor laws.\n",
      "By classifying drivers as independent contractors instead of employees, Uber doesn’t need to pay certain taxes, benefits, overtime, or minimum wages to tens of thousands of drivers.\n",
      "The changes from the bill would also benefit the state of California, which estimates that it loses $7 billion in tax revenue each year from companies that misclassify employees.\n"
     ]
    }
   ],
   "source": [
    "print(\"Title : \" + text[0])\n",
    "print(\"Summary : \")\n",
    "# 1st argument: text, 2nd: ratio, 3rd: word_count it can only be either 2nd or 3rd, not both\n",
    "print(summarize(repr(text), word_count=100))"
   ]
  },
  {
   "cell_type": "code",
   "execution_count": 41,
   "metadata": {},
   "outputs": [],
   "source": [
    "# \n",
    "summarized_text = summarize(repr(text[1]), ratio=0.1)"
   ]
  },
  {
   "cell_type": "code",
   "execution_count": 42,
   "metadata": {},
   "outputs": [
    {
     "data": {
      "text/plain": [
       "217"
      ]
     },
     "execution_count": 42,
     "metadata": {},
     "output_type": "execute_result"
    }
   ],
   "source": [
    "len(str.split(summarized_text))"
   ]
  },
  {
   "cell_type": "code",
   "execution_count": 44,
   "metadata": {},
   "outputs": [
    {
     "name": "stdout",
     "output_type": "stream",
     "text": [
      "\n",
      "keywords:\n",
      "drivers\n",
      "courts\n",
      "uber\n",
      "labor\n",
      "tax\n",
      "california\n",
      "worker\n",
      "stated\n",
      "contractor\n",
      "business\n",
      "federation\n",
      "including\n",
      "benefit\n",
      "law\n",
      "paying\n",
      "assembly\n",
      "employee\n",
      "misclassifying\n",
      "financial\n",
      "competitive\n",
      "email\n",
      "years\n",
      "costs\n",
      "company\n",
      "problems\n",
      "misclassification\n",
      "economy\n",
      "employment\n",
      "called\n",
      "department\n",
      "minimum\n",
      "working\n",
      "status\n"
     ]
    }
   ],
   "source": [
    "print(\"\\nkeywords:\")\n",
    "print(keywords(text[1], ratio=0.1, lemmatize=True))"
   ]
  }
 ],
 "metadata": {
  "kernelspec": {
   "display_name": "news_kernel",
   "language": "python",
   "name": "news_kernel"
  },
  "language_info": {
   "codemirror_mode": {
    "name": "ipython",
    "version": 3
   },
   "file_extension": ".py",
   "mimetype": "text/x-python",
   "name": "python",
   "nbconvert_exporter": "python",
   "pygments_lexer": "ipython3",
   "version": "3.11.1"
  },
  "orig_nbformat": 4,
  "vscode": {
   "interpreter": {
    "hash": "b8e5b49605a778ee318d716ff576ff078d69e21440a24d824c17958cc1bd2f1c"
   }
  }
 },
 "nbformat": 4,
 "nbformat_minor": 2
}
