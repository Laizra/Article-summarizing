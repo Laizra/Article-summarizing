{
 "cells": [
  {
   "cell_type": "code",
   "execution_count": null,
   "metadata": {},
   "outputs": [],
   "source": []
  }
 ],
 "metadata": {
  "kernelspec": {
   "display_name": "news_kernel",
   "language": "python",
   "name": "news_kernel"
  },
  "language_info": {
   "name": "python",
   "version": "3.11.1"
  },
  "orig_nbformat": 4,
  "vscode": {
   "interpreter": {
    "hash": "b8e5b49605a778ee318d716ff576ff078d69e21440a24d824c17958cc1bd2f1c"
   }
  }
 },
 "nbformat": 4,
 "nbformat_minor": 2
}
